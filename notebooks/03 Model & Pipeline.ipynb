{
 "cells": [
  {
   "cell_type": "markdown",
   "metadata": {},
   "source": [
    "## 4. Building a Predictive Model"
   ]
  },
  {
   "cell_type": "code",
   "execution_count": 48,
   "metadata": {},
   "outputs": [],
   "source": [
    "# Importing the libraries\n",
    "\n",
    "import pandas as pd\n",
    "import numpy as np\n",
    "from matplotlib import pyplot as plt\n",
    "pd.set_option('display.max_columns', None)\n",
    "import seaborn as sns\n",
    "\n",
    "\n",
    "from sklearn.model_selection import train_test_split\n",
    "from sklearn.linear_model import LogisticRegression\n",
    "from sklearn.ensemble import RandomForestClassifier\n",
    "from sklearn import svm\n",
    "from sklearn.tree import DecisionTreeClassifier\n",
    "from sklearn.neighbors import KNeighborsClassifier\n",
    "from sklearn.metrics import accuracy_score, precision_score, recall_score, f1_score, roc_auc_score, confusion_matrix, mean_absolute_error, mean_squared_error, r2_score\n",
    "from sklearn.model_selection import GridSearchCV\n",
    "from sklearn.preprocessing import StandardScaler\n",
    "from sklearn.decomposition import PCA\n",
    "from sklearn.feature_selection import SelectKBest\n",
    "\n",
    "\n",
    "\n",
    "\n",
    "import pickle\n"
   ]
  },
  {
   "cell_type": "code",
   "execution_count": 49,
   "metadata": {},
   "outputs": [
    {
     "data": {
      "text/plain": [
       "(614, 16)"
      ]
     },
     "execution_count": 49,
     "metadata": {},
     "output_type": "execute_result"
    }
   ],
   "source": [
    "df = pd.read_csv(r\"C:\\Users\\zarah\\Desktop\\Lighthouse Labs\\Week8\\ML-deployment-Project\\data\\cleaneddata.csv\")\n",
    "df.shape"
   ]
  },
  {
   "cell_type": "code",
   "execution_count": 50,
   "metadata": {},
   "outputs": [
    {
     "data": {
      "text/html": [
       "<div>\n",
       "<style scoped>\n",
       "    .dataframe tbody tr th:only-of-type {\n",
       "        vertical-align: middle;\n",
       "    }\n",
       "\n",
       "    .dataframe tbody tr th {\n",
       "        vertical-align: top;\n",
       "    }\n",
       "\n",
       "    .dataframe thead th {\n",
       "        text-align: right;\n",
       "    }\n",
       "</style>\n",
       "<table border=\"1\" class=\"dataframe\">\n",
       "  <thead>\n",
       "    <tr style=\"text-align: right;\">\n",
       "      <th></th>\n",
       "      <th>Dependents</th>\n",
       "      <th>ApplicantIncome</th>\n",
       "      <th>CoapplicantIncome</th>\n",
       "      <th>LoanAmount</th>\n",
       "      <th>Loan_Amount_Term</th>\n",
       "      <th>Credit_History</th>\n",
       "      <th>ApplicantIncome_Log</th>\n",
       "      <th>LoanAmount_Log</th>\n",
       "      <th>TotalIncome</th>\n",
       "      <th>TotalIncome_Log</th>\n",
       "      <th>Married_new</th>\n",
       "      <th>Gender_new</th>\n",
       "      <th>Self_Employed_new</th>\n",
       "      <th>Education_new</th>\n",
       "      <th>Loan_Status_new</th>\n",
       "      <th>Property_Area_new</th>\n",
       "    </tr>\n",
       "  </thead>\n",
       "  <tbody>\n",
       "    <tr>\n",
       "      <th>0</th>\n",
       "      <td>0</td>\n",
       "      <td>5849</td>\n",
       "      <td>0</td>\n",
       "      <td>128</td>\n",
       "      <td>360</td>\n",
       "      <td>1</td>\n",
       "      <td>8.674026</td>\n",
       "      <td>4.852030</td>\n",
       "      <td>5849.0</td>\n",
       "      <td>8.674026</td>\n",
       "      <td>0</td>\n",
       "      <td>1</td>\n",
       "      <td>0</td>\n",
       "      <td>0</td>\n",
       "      <td>1</td>\n",
       "      <td>2</td>\n",
       "    </tr>\n",
       "    <tr>\n",
       "      <th>1</th>\n",
       "      <td>1</td>\n",
       "      <td>4583</td>\n",
       "      <td>1508</td>\n",
       "      <td>128</td>\n",
       "      <td>360</td>\n",
       "      <td>1</td>\n",
       "      <td>8.430109</td>\n",
       "      <td>4.852030</td>\n",
       "      <td>6091.0</td>\n",
       "      <td>8.714568</td>\n",
       "      <td>1</td>\n",
       "      <td>1</td>\n",
       "      <td>0</td>\n",
       "      <td>0</td>\n",
       "      <td>0</td>\n",
       "      <td>0</td>\n",
       "    </tr>\n",
       "    <tr>\n",
       "      <th>2</th>\n",
       "      <td>0</td>\n",
       "      <td>3000</td>\n",
       "      <td>0</td>\n",
       "      <td>66</td>\n",
       "      <td>360</td>\n",
       "      <td>1</td>\n",
       "      <td>8.006368</td>\n",
       "      <td>4.189655</td>\n",
       "      <td>3000.0</td>\n",
       "      <td>8.006368</td>\n",
       "      <td>1</td>\n",
       "      <td>1</td>\n",
       "      <td>1</td>\n",
       "      <td>0</td>\n",
       "      <td>1</td>\n",
       "      <td>2</td>\n",
       "    </tr>\n",
       "    <tr>\n",
       "      <th>3</th>\n",
       "      <td>0</td>\n",
       "      <td>2583</td>\n",
       "      <td>2358</td>\n",
       "      <td>120</td>\n",
       "      <td>360</td>\n",
       "      <td>1</td>\n",
       "      <td>7.856707</td>\n",
       "      <td>4.787492</td>\n",
       "      <td>4941.0</td>\n",
       "      <td>8.505323</td>\n",
       "      <td>1</td>\n",
       "      <td>1</td>\n",
       "      <td>0</td>\n",
       "      <td>1</td>\n",
       "      <td>1</td>\n",
       "      <td>2</td>\n",
       "    </tr>\n",
       "    <tr>\n",
       "      <th>4</th>\n",
       "      <td>0</td>\n",
       "      <td>6000</td>\n",
       "      <td>0</td>\n",
       "      <td>141</td>\n",
       "      <td>360</td>\n",
       "      <td>1</td>\n",
       "      <td>8.699515</td>\n",
       "      <td>4.948760</td>\n",
       "      <td>6000.0</td>\n",
       "      <td>8.699515</td>\n",
       "      <td>0</td>\n",
       "      <td>1</td>\n",
       "      <td>0</td>\n",
       "      <td>0</td>\n",
       "      <td>1</td>\n",
       "      <td>2</td>\n",
       "    </tr>\n",
       "    <tr>\n",
       "      <th>...</th>\n",
       "      <td>...</td>\n",
       "      <td>...</td>\n",
       "      <td>...</td>\n",
       "      <td>...</td>\n",
       "      <td>...</td>\n",
       "      <td>...</td>\n",
       "      <td>...</td>\n",
       "      <td>...</td>\n",
       "      <td>...</td>\n",
       "      <td>...</td>\n",
       "      <td>...</td>\n",
       "      <td>...</td>\n",
       "      <td>...</td>\n",
       "      <td>...</td>\n",
       "      <td>...</td>\n",
       "      <td>...</td>\n",
       "    </tr>\n",
       "    <tr>\n",
       "      <th>609</th>\n",
       "      <td>0</td>\n",
       "      <td>2900</td>\n",
       "      <td>0</td>\n",
       "      <td>71</td>\n",
       "      <td>360</td>\n",
       "      <td>1</td>\n",
       "      <td>7.972466</td>\n",
       "      <td>4.262680</td>\n",
       "      <td>2900.0</td>\n",
       "      <td>7.972466</td>\n",
       "      <td>0</td>\n",
       "      <td>0</td>\n",
       "      <td>0</td>\n",
       "      <td>0</td>\n",
       "      <td>1</td>\n",
       "      <td>0</td>\n",
       "    </tr>\n",
       "    <tr>\n",
       "      <th>610</th>\n",
       "      <td>3</td>\n",
       "      <td>4106</td>\n",
       "      <td>0</td>\n",
       "      <td>40</td>\n",
       "      <td>180</td>\n",
       "      <td>1</td>\n",
       "      <td>8.320205</td>\n",
       "      <td>3.688879</td>\n",
       "      <td>4106.0</td>\n",
       "      <td>8.320205</td>\n",
       "      <td>1</td>\n",
       "      <td>1</td>\n",
       "      <td>0</td>\n",
       "      <td>0</td>\n",
       "      <td>1</td>\n",
       "      <td>0</td>\n",
       "    </tr>\n",
       "    <tr>\n",
       "      <th>611</th>\n",
       "      <td>1</td>\n",
       "      <td>8072</td>\n",
       "      <td>240</td>\n",
       "      <td>253</td>\n",
       "      <td>360</td>\n",
       "      <td>1</td>\n",
       "      <td>8.996157</td>\n",
       "      <td>5.533389</td>\n",
       "      <td>8312.0</td>\n",
       "      <td>9.025456</td>\n",
       "      <td>1</td>\n",
       "      <td>1</td>\n",
       "      <td>0</td>\n",
       "      <td>0</td>\n",
       "      <td>1</td>\n",
       "      <td>2</td>\n",
       "    </tr>\n",
       "    <tr>\n",
       "      <th>612</th>\n",
       "      <td>2</td>\n",
       "      <td>7583</td>\n",
       "      <td>0</td>\n",
       "      <td>187</td>\n",
       "      <td>360</td>\n",
       "      <td>1</td>\n",
       "      <td>8.933664</td>\n",
       "      <td>5.231109</td>\n",
       "      <td>7583.0</td>\n",
       "      <td>8.933664</td>\n",
       "      <td>1</td>\n",
       "      <td>1</td>\n",
       "      <td>0</td>\n",
       "      <td>0</td>\n",
       "      <td>1</td>\n",
       "      <td>2</td>\n",
       "    </tr>\n",
       "    <tr>\n",
       "      <th>613</th>\n",
       "      <td>0</td>\n",
       "      <td>4583</td>\n",
       "      <td>0</td>\n",
       "      <td>133</td>\n",
       "      <td>360</td>\n",
       "      <td>0</td>\n",
       "      <td>8.430109</td>\n",
       "      <td>4.890349</td>\n",
       "      <td>4583.0</td>\n",
       "      <td>8.430109</td>\n",
       "      <td>0</td>\n",
       "      <td>0</td>\n",
       "      <td>1</td>\n",
       "      <td>0</td>\n",
       "      <td>0</td>\n",
       "      <td>1</td>\n",
       "    </tr>\n",
       "  </tbody>\n",
       "</table>\n",
       "<p>614 rows × 16 columns</p>\n",
       "</div>"
      ],
      "text/plain": [
       "     Dependents  ApplicantIncome  CoapplicantIncome  LoanAmount  \\\n",
       "0             0             5849                  0         128   \n",
       "1             1             4583               1508         128   \n",
       "2             0             3000                  0          66   \n",
       "3             0             2583               2358         120   \n",
       "4             0             6000                  0         141   \n",
       "..          ...              ...                ...         ...   \n",
       "609           0             2900                  0          71   \n",
       "610           3             4106                  0          40   \n",
       "611           1             8072                240         253   \n",
       "612           2             7583                  0         187   \n",
       "613           0             4583                  0         133   \n",
       "\n",
       "     Loan_Amount_Term  Credit_History  ApplicantIncome_Log  LoanAmount_Log  \\\n",
       "0                 360               1             8.674026        4.852030   \n",
       "1                 360               1             8.430109        4.852030   \n",
       "2                 360               1             8.006368        4.189655   \n",
       "3                 360               1             7.856707        4.787492   \n",
       "4                 360               1             8.699515        4.948760   \n",
       "..                ...             ...                  ...             ...   \n",
       "609               360               1             7.972466        4.262680   \n",
       "610               180               1             8.320205        3.688879   \n",
       "611               360               1             8.996157        5.533389   \n",
       "612               360               1             8.933664        5.231109   \n",
       "613               360               0             8.430109        4.890349   \n",
       "\n",
       "     TotalIncome  TotalIncome_Log  Married_new  Gender_new  Self_Employed_new  \\\n",
       "0         5849.0         8.674026            0           1                  0   \n",
       "1         6091.0         8.714568            1           1                  0   \n",
       "2         3000.0         8.006368            1           1                  1   \n",
       "3         4941.0         8.505323            1           1                  0   \n",
       "4         6000.0         8.699515            0           1                  0   \n",
       "..           ...              ...          ...         ...                ...   \n",
       "609       2900.0         7.972466            0           0                  0   \n",
       "610       4106.0         8.320205            1           1                  0   \n",
       "611       8312.0         9.025456            1           1                  0   \n",
       "612       7583.0         8.933664            1           1                  0   \n",
       "613       4583.0         8.430109            0           0                  1   \n",
       "\n",
       "     Education_new  Loan_Status_new  Property_Area_new  \n",
       "0                0                1                  2  \n",
       "1                0                0                  0  \n",
       "2                0                1                  2  \n",
       "3                1                1                  2  \n",
       "4                0                1                  2  \n",
       "..             ...              ...                ...  \n",
       "609              0                1                  0  \n",
       "610              0                1                  0  \n",
       "611              0                1                  2  \n",
       "612              0                1                  2  \n",
       "613              0                0                  1  \n",
       "\n",
       "[614 rows x 16 columns]"
      ]
     },
     "execution_count": 50,
     "metadata": {},
     "output_type": "execute_result"
    }
   ],
   "source": [
    "df"
   ]
  },
  {
   "cell_type": "code",
   "execution_count": 51,
   "metadata": {},
   "outputs": [],
   "source": [
    "df.drop(['ApplicantIncome', 'LoanAmount', 'TotalIncome'], axis=1, inplace=True)"
   ]
  },
  {
   "cell_type": "code",
   "execution_count": 52,
   "metadata": {},
   "outputs": [
    {
     "data": {
      "text/html": [
       "<div>\n",
       "<style scoped>\n",
       "    .dataframe tbody tr th:only-of-type {\n",
       "        vertical-align: middle;\n",
       "    }\n",
       "\n",
       "    .dataframe tbody tr th {\n",
       "        vertical-align: top;\n",
       "    }\n",
       "\n",
       "    .dataframe thead th {\n",
       "        text-align: right;\n",
       "    }\n",
       "</style>\n",
       "<table border=\"1\" class=\"dataframe\">\n",
       "  <thead>\n",
       "    <tr style=\"text-align: right;\">\n",
       "      <th></th>\n",
       "      <th>Dependents</th>\n",
       "      <th>CoapplicantIncome</th>\n",
       "      <th>Loan_Amount_Term</th>\n",
       "      <th>Credit_History</th>\n",
       "      <th>ApplicantIncome_Log</th>\n",
       "      <th>LoanAmount_Log</th>\n",
       "      <th>TotalIncome_Log</th>\n",
       "      <th>Married_new</th>\n",
       "      <th>Gender_new</th>\n",
       "      <th>Self_Employed_new</th>\n",
       "      <th>Education_new</th>\n",
       "      <th>Loan_Status_new</th>\n",
       "      <th>Property_Area_new</th>\n",
       "    </tr>\n",
       "  </thead>\n",
       "  <tbody>\n",
       "    <tr>\n",
       "      <th>0</th>\n",
       "      <td>0</td>\n",
       "      <td>0</td>\n",
       "      <td>360</td>\n",
       "      <td>1</td>\n",
       "      <td>8.674026</td>\n",
       "      <td>4.852030</td>\n",
       "      <td>8.674026</td>\n",
       "      <td>0</td>\n",
       "      <td>1</td>\n",
       "      <td>0</td>\n",
       "      <td>0</td>\n",
       "      <td>1</td>\n",
       "      <td>2</td>\n",
       "    </tr>\n",
       "    <tr>\n",
       "      <th>1</th>\n",
       "      <td>1</td>\n",
       "      <td>1508</td>\n",
       "      <td>360</td>\n",
       "      <td>1</td>\n",
       "      <td>8.430109</td>\n",
       "      <td>4.852030</td>\n",
       "      <td>8.714568</td>\n",
       "      <td>1</td>\n",
       "      <td>1</td>\n",
       "      <td>0</td>\n",
       "      <td>0</td>\n",
       "      <td>0</td>\n",
       "      <td>0</td>\n",
       "    </tr>\n",
       "    <tr>\n",
       "      <th>2</th>\n",
       "      <td>0</td>\n",
       "      <td>0</td>\n",
       "      <td>360</td>\n",
       "      <td>1</td>\n",
       "      <td>8.006368</td>\n",
       "      <td>4.189655</td>\n",
       "      <td>8.006368</td>\n",
       "      <td>1</td>\n",
       "      <td>1</td>\n",
       "      <td>1</td>\n",
       "      <td>0</td>\n",
       "      <td>1</td>\n",
       "      <td>2</td>\n",
       "    </tr>\n",
       "    <tr>\n",
       "      <th>3</th>\n",
       "      <td>0</td>\n",
       "      <td>2358</td>\n",
       "      <td>360</td>\n",
       "      <td>1</td>\n",
       "      <td>7.856707</td>\n",
       "      <td>4.787492</td>\n",
       "      <td>8.505323</td>\n",
       "      <td>1</td>\n",
       "      <td>1</td>\n",
       "      <td>0</td>\n",
       "      <td>1</td>\n",
       "      <td>1</td>\n",
       "      <td>2</td>\n",
       "    </tr>\n",
       "    <tr>\n",
       "      <th>4</th>\n",
       "      <td>0</td>\n",
       "      <td>0</td>\n",
       "      <td>360</td>\n",
       "      <td>1</td>\n",
       "      <td>8.699515</td>\n",
       "      <td>4.948760</td>\n",
       "      <td>8.699515</td>\n",
       "      <td>0</td>\n",
       "      <td>1</td>\n",
       "      <td>0</td>\n",
       "      <td>0</td>\n",
       "      <td>1</td>\n",
       "      <td>2</td>\n",
       "    </tr>\n",
       "    <tr>\n",
       "      <th>...</th>\n",
       "      <td>...</td>\n",
       "      <td>...</td>\n",
       "      <td>...</td>\n",
       "      <td>...</td>\n",
       "      <td>...</td>\n",
       "      <td>...</td>\n",
       "      <td>...</td>\n",
       "      <td>...</td>\n",
       "      <td>...</td>\n",
       "      <td>...</td>\n",
       "      <td>...</td>\n",
       "      <td>...</td>\n",
       "      <td>...</td>\n",
       "    </tr>\n",
       "    <tr>\n",
       "      <th>609</th>\n",
       "      <td>0</td>\n",
       "      <td>0</td>\n",
       "      <td>360</td>\n",
       "      <td>1</td>\n",
       "      <td>7.972466</td>\n",
       "      <td>4.262680</td>\n",
       "      <td>7.972466</td>\n",
       "      <td>0</td>\n",
       "      <td>0</td>\n",
       "      <td>0</td>\n",
       "      <td>0</td>\n",
       "      <td>1</td>\n",
       "      <td>0</td>\n",
       "    </tr>\n",
       "    <tr>\n",
       "      <th>610</th>\n",
       "      <td>3</td>\n",
       "      <td>0</td>\n",
       "      <td>180</td>\n",
       "      <td>1</td>\n",
       "      <td>8.320205</td>\n",
       "      <td>3.688879</td>\n",
       "      <td>8.320205</td>\n",
       "      <td>1</td>\n",
       "      <td>1</td>\n",
       "      <td>0</td>\n",
       "      <td>0</td>\n",
       "      <td>1</td>\n",
       "      <td>0</td>\n",
       "    </tr>\n",
       "    <tr>\n",
       "      <th>611</th>\n",
       "      <td>1</td>\n",
       "      <td>240</td>\n",
       "      <td>360</td>\n",
       "      <td>1</td>\n",
       "      <td>8.996157</td>\n",
       "      <td>5.533389</td>\n",
       "      <td>9.025456</td>\n",
       "      <td>1</td>\n",
       "      <td>1</td>\n",
       "      <td>0</td>\n",
       "      <td>0</td>\n",
       "      <td>1</td>\n",
       "      <td>2</td>\n",
       "    </tr>\n",
       "    <tr>\n",
       "      <th>612</th>\n",
       "      <td>2</td>\n",
       "      <td>0</td>\n",
       "      <td>360</td>\n",
       "      <td>1</td>\n",
       "      <td>8.933664</td>\n",
       "      <td>5.231109</td>\n",
       "      <td>8.933664</td>\n",
       "      <td>1</td>\n",
       "      <td>1</td>\n",
       "      <td>0</td>\n",
       "      <td>0</td>\n",
       "      <td>1</td>\n",
       "      <td>2</td>\n",
       "    </tr>\n",
       "    <tr>\n",
       "      <th>613</th>\n",
       "      <td>0</td>\n",
       "      <td>0</td>\n",
       "      <td>360</td>\n",
       "      <td>0</td>\n",
       "      <td>8.430109</td>\n",
       "      <td>4.890349</td>\n",
       "      <td>8.430109</td>\n",
       "      <td>0</td>\n",
       "      <td>0</td>\n",
       "      <td>1</td>\n",
       "      <td>0</td>\n",
       "      <td>0</td>\n",
       "      <td>1</td>\n",
       "    </tr>\n",
       "  </tbody>\n",
       "</table>\n",
       "<p>614 rows × 13 columns</p>\n",
       "</div>"
      ],
      "text/plain": [
       "     Dependents  CoapplicantIncome  Loan_Amount_Term  Credit_History  \\\n",
       "0             0                  0               360               1   \n",
       "1             1               1508               360               1   \n",
       "2             0                  0               360               1   \n",
       "3             0               2358               360               1   \n",
       "4             0                  0               360               1   \n",
       "..          ...                ...               ...             ...   \n",
       "609           0                  0               360               1   \n",
       "610           3                  0               180               1   \n",
       "611           1                240               360               1   \n",
       "612           2                  0               360               1   \n",
       "613           0                  0               360               0   \n",
       "\n",
       "     ApplicantIncome_Log  LoanAmount_Log  TotalIncome_Log  Married_new  \\\n",
       "0               8.674026        4.852030         8.674026            0   \n",
       "1               8.430109        4.852030         8.714568            1   \n",
       "2               8.006368        4.189655         8.006368            1   \n",
       "3               7.856707        4.787492         8.505323            1   \n",
       "4               8.699515        4.948760         8.699515            0   \n",
       "..                   ...             ...              ...          ...   \n",
       "609             7.972466        4.262680         7.972466            0   \n",
       "610             8.320205        3.688879         8.320205            1   \n",
       "611             8.996157        5.533389         9.025456            1   \n",
       "612             8.933664        5.231109         8.933664            1   \n",
       "613             8.430109        4.890349         8.430109            0   \n",
       "\n",
       "     Gender_new  Self_Employed_new  Education_new  Loan_Status_new  \\\n",
       "0             1                  0              0                1   \n",
       "1             1                  0              0                0   \n",
       "2             1                  1              0                1   \n",
       "3             1                  0              1                1   \n",
       "4             1                  0              0                1   \n",
       "..          ...                ...            ...              ...   \n",
       "609           0                  0              0                1   \n",
       "610           1                  0              0                1   \n",
       "611           1                  0              0                1   \n",
       "612           1                  0              0                1   \n",
       "613           0                  1              0                0   \n",
       "\n",
       "     Property_Area_new  \n",
       "0                    2  \n",
       "1                    0  \n",
       "2                    2  \n",
       "3                    2  \n",
       "4                    2  \n",
       "..                 ...  \n",
       "609                  0  \n",
       "610                  0  \n",
       "611                  2  \n",
       "612                  2  \n",
       "613                  1  \n",
       "\n",
       "[614 rows x 13 columns]"
      ]
     },
     "execution_count": 52,
     "metadata": {},
     "output_type": "execute_result"
    }
   ],
   "source": [
    "df"
   ]
  },
  {
   "attachments": {},
   "cell_type": "markdown",
   "metadata": {},
   "source": [
    "# Assign X (IV) and Y (DV) and Split to test & Train Datasets"
   ]
  },
  {
   "cell_type": "code",
   "execution_count": 53,
   "metadata": {},
   "outputs": [],
   "source": [
    "# Separating the dataframe between the X (independent) and y (dependent) variables\n",
    "X = df.drop('Loan_Status_new', axis=1).select_dtypes(include=[np.number])\n",
    "y = df['Loan_Status_new']"
   ]
  },
  {
   "cell_type": "code",
   "execution_count": 54,
   "metadata": {},
   "outputs": [],
   "source": [
    "# Splitting the set\n",
    "X_train, X_test, y_train, y_test = train_test_split(X, y, test_size=0.25,random_state=100)"
   ]
  },
  {
   "cell_type": "code",
   "execution_count": 55,
   "metadata": {},
   "outputs": [
    {
     "name": "stdout",
     "output_type": "stream",
     "text": [
      "(614, 13)\n",
      "(460, 12)\n",
      "(154, 12)\n",
      "(460,)\n",
      "(154,)\n"
     ]
    }
   ],
   "source": [
    "# Printing df to check\n",
    "print(df.shape)\n",
    "\n",
    "print(X_train.shape)\n",
    "print(X_test.shape)\n",
    "\n",
    "print(y_train.shape)\n",
    "print(y_test.shape)\n"
   ]
  },
  {
   "attachments": {},
   "cell_type": "markdown",
   "metadata": {},
   "source": [
    "#   Scaling X"
   ]
  },
  {
   "cell_type": "code",
   "execution_count": 56,
   "metadata": {},
   "outputs": [
    {
     "data": {
      "text/plain": [
       "array([[-0.75592181,  1.95904526,  0.28549947, ..., -0.40928314,\n",
       "        -0.53377542, -0.04733724],\n",
       "       [-0.75592181,  0.39782991,  0.28549947, ..., -0.40928314,\n",
       "         1.87344707,  1.23355266],\n",
       "       [ 1.24249217, -0.2153692 ,  0.28549947, ..., -0.40928314,\n",
       "         1.87344707,  1.23355266],\n",
       "       ...,\n",
       "       [-0.75592181, -0.70858426,  0.28549947, ..., -0.40928314,\n",
       "        -0.53377542, -0.04733724],\n",
       "       [ 2.24169917,  0.31863095,  0.28549947, ...,  2.44329633,\n",
       "         1.87344707, -0.04733724],\n",
       "       [ 1.24249217,  0.11755096,  0.28549947, ..., -0.40928314,\n",
       "         1.87344707, -0.04733724]])"
      ]
     },
     "execution_count": 56,
     "metadata": {},
     "output_type": "execute_result"
    }
   ],
   "source": [
    "scaler = StandardScaler()\n",
    "X_train_scaled = scaler.fit_transform(X_train)\n",
    "X_train_scaled"
   ]
  },
  {
   "attachments": {},
   "cell_type": "markdown",
   "metadata": {},
   "source": [
    "# PCA for Feature Selection"
   ]
  },
  {
   "cell_type": "code",
   "execution_count": 57,
   "metadata": {},
   "outputs": [
    {
     "data": {
      "text/html": [
       "<style>#sk-e9bf77ad-7449-45bd-beb5-e403cde06eb9 {color: black;background-color: white;}#sk-e9bf77ad-7449-45bd-beb5-e403cde06eb9 pre{padding: 0;}#sk-e9bf77ad-7449-45bd-beb5-e403cde06eb9 div.sk-toggleable {background-color: white;}#sk-e9bf77ad-7449-45bd-beb5-e403cde06eb9 label.sk-toggleable__label {cursor: pointer;display: block;width: 100%;margin-bottom: 0;padding: 0.3em;box-sizing: border-box;text-align: center;}#sk-e9bf77ad-7449-45bd-beb5-e403cde06eb9 label.sk-toggleable__label-arrow:before {content: \"▸\";float: left;margin-right: 0.25em;color: #696969;}#sk-e9bf77ad-7449-45bd-beb5-e403cde06eb9 label.sk-toggleable__label-arrow:hover:before {color: black;}#sk-e9bf77ad-7449-45bd-beb5-e403cde06eb9 div.sk-estimator:hover label.sk-toggleable__label-arrow:before {color: black;}#sk-e9bf77ad-7449-45bd-beb5-e403cde06eb9 div.sk-toggleable__content {max-height: 0;max-width: 0;overflow: hidden;text-align: left;background-color: #f0f8ff;}#sk-e9bf77ad-7449-45bd-beb5-e403cde06eb9 div.sk-toggleable__content pre {margin: 0.2em;color: black;border-radius: 0.25em;background-color: #f0f8ff;}#sk-e9bf77ad-7449-45bd-beb5-e403cde06eb9 input.sk-toggleable__control:checked~div.sk-toggleable__content {max-height: 200px;max-width: 100%;overflow: auto;}#sk-e9bf77ad-7449-45bd-beb5-e403cde06eb9 input.sk-toggleable__control:checked~label.sk-toggleable__label-arrow:before {content: \"▾\";}#sk-e9bf77ad-7449-45bd-beb5-e403cde06eb9 div.sk-estimator input.sk-toggleable__control:checked~label.sk-toggleable__label {background-color: #d4ebff;}#sk-e9bf77ad-7449-45bd-beb5-e403cde06eb9 div.sk-label input.sk-toggleable__control:checked~label.sk-toggleable__label {background-color: #d4ebff;}#sk-e9bf77ad-7449-45bd-beb5-e403cde06eb9 input.sk-hidden--visually {border: 0;clip: rect(1px 1px 1px 1px);clip: rect(1px, 1px, 1px, 1px);height: 1px;margin: -1px;overflow: hidden;padding: 0;position: absolute;width: 1px;}#sk-e9bf77ad-7449-45bd-beb5-e403cde06eb9 div.sk-estimator {font-family: monospace;background-color: #f0f8ff;border: 1px dotted black;border-radius: 0.25em;box-sizing: border-box;margin-bottom: 0.5em;}#sk-e9bf77ad-7449-45bd-beb5-e403cde06eb9 div.sk-estimator:hover {background-color: #d4ebff;}#sk-e9bf77ad-7449-45bd-beb5-e403cde06eb9 div.sk-parallel-item::after {content: \"\";width: 100%;border-bottom: 1px solid gray;flex-grow: 1;}#sk-e9bf77ad-7449-45bd-beb5-e403cde06eb9 div.sk-label:hover label.sk-toggleable__label {background-color: #d4ebff;}#sk-e9bf77ad-7449-45bd-beb5-e403cde06eb9 div.sk-serial::before {content: \"\";position: absolute;border-left: 1px solid gray;box-sizing: border-box;top: 2em;bottom: 0;left: 50%;}#sk-e9bf77ad-7449-45bd-beb5-e403cde06eb9 div.sk-serial {display: flex;flex-direction: column;align-items: center;background-color: white;padding-right: 0.2em;padding-left: 0.2em;}#sk-e9bf77ad-7449-45bd-beb5-e403cde06eb9 div.sk-item {z-index: 1;}#sk-e9bf77ad-7449-45bd-beb5-e403cde06eb9 div.sk-parallel {display: flex;align-items: stretch;justify-content: center;background-color: white;}#sk-e9bf77ad-7449-45bd-beb5-e403cde06eb9 div.sk-parallel::before {content: \"\";position: absolute;border-left: 1px solid gray;box-sizing: border-box;top: 2em;bottom: 0;left: 50%;}#sk-e9bf77ad-7449-45bd-beb5-e403cde06eb9 div.sk-parallel-item {display: flex;flex-direction: column;position: relative;background-color: white;}#sk-e9bf77ad-7449-45bd-beb5-e403cde06eb9 div.sk-parallel-item:first-child::after {align-self: flex-end;width: 50%;}#sk-e9bf77ad-7449-45bd-beb5-e403cde06eb9 div.sk-parallel-item:last-child::after {align-self: flex-start;width: 50%;}#sk-e9bf77ad-7449-45bd-beb5-e403cde06eb9 div.sk-parallel-item:only-child::after {width: 0;}#sk-e9bf77ad-7449-45bd-beb5-e403cde06eb9 div.sk-dashed-wrapped {border: 1px dashed gray;margin: 0 0.4em 0.5em 0.4em;box-sizing: border-box;padding-bottom: 0.4em;background-color: white;position: relative;}#sk-e9bf77ad-7449-45bd-beb5-e403cde06eb9 div.sk-label label {font-family: monospace;font-weight: bold;background-color: white;display: inline-block;line-height: 1.2em;}#sk-e9bf77ad-7449-45bd-beb5-e403cde06eb9 div.sk-label-container {position: relative;z-index: 2;text-align: center;}#sk-e9bf77ad-7449-45bd-beb5-e403cde06eb9 div.sk-container {/* jupyter's `normalize.less` sets `[hidden] { display: none; }` but bootstrap.min.css set `[hidden] { display: none !important; }` so we also need the `!important` here to be able to override the default hidden behavior on the sphinx rendered scikit-learn.org. See: https://github.com/scikit-learn/scikit-learn/issues/21755 */display: inline-block !important;position: relative;}#sk-e9bf77ad-7449-45bd-beb5-e403cde06eb9 div.sk-text-repr-fallback {display: none;}</style><div id=\"sk-e9bf77ad-7449-45bd-beb5-e403cde06eb9\" class=\"sk-top-container\"><div class=\"sk-text-repr-fallback\"><pre>PCA()</pre><b>Please rerun this cell to show the HTML repr or trust the notebook.</b></div><div class=\"sk-container\" hidden><div class=\"sk-item\"><div class=\"sk-estimator sk-toggleable\"><input class=\"sk-toggleable__control sk-hidden--visually\" id=\"97f90d8a-7930-456b-b375-ed341d35b6bf\" type=\"checkbox\" checked><label for=\"97f90d8a-7930-456b-b375-ed341d35b6bf\" class=\"sk-toggleable__label sk-toggleable__label-arrow\">PCA</label><div class=\"sk-toggleable__content\"><pre>PCA()</pre></div></div></div></div></div>"
      ],
      "text/plain": [
       "PCA()"
      ]
     },
     "execution_count": 57,
     "metadata": {},
     "output_type": "execute_result"
    }
   ],
   "source": [
    "# Performing PCA\n",
    "\n",
    "pca = PCA()\n",
    "pca.fit(X_train_scaled)\n",
    "#X_train_pca =pca.transform(X_train_scaled)"
   ]
  },
  {
   "cell_type": "code",
   "execution_count": 58,
   "metadata": {},
   "outputs": [
    {
     "data": {
      "image/png": "[encoded data removed]",
      "text/plain": [
       "<Figure size 640x480 with 1 Axes>"
      ]
     },
     "metadata": {},
     "output_type": "display_data"
    }
   ],
   "source": [
    "#creating a pca object with n componenets\n",
    "pca = PCA(n_components=8)\n",
    "\n",
    "#fitting and transforming data using PCA\n",
    "pca.fit(X_train_scaled)\n",
    "components = pca.components_\n",
    "\n",
    "fig, ax = plt.subplots(1,1)\n",
    "ax.set_title(\"PCA\")\n",
    "ax.scatter(components[0], components[1])\n",
    "\n",
    "for i, txt in enumerate(X.columns.to_list()):\n",
    "    ax.annotate(txt, (components[0][i], components[1][i]), xytext=(7,0), textcoords='offset points')"
   ]
  },
  {
   "cell_type": "code",
   "execution_count": 59,
   "metadata": {},
   "outputs": [
    {
     "name": "stdout",
     "output_type": "stream",
     "text": [
      "85.50771460728859\n"
     ]
    }
   ],
   "source": [
    "print(sum(pca.explained_variance_ratio_ *100))"
   ]
  },
  {
   "cell_type": "code",
   "execution_count": 60,
   "metadata": {},
   "outputs": [
    {
     "data": {
      "text/plain": [
       "array([21.94435716, 13.58041444, 10.24291826,  9.0308987 ,  8.26834998,\n",
       "        8.22247509,  7.50589044,  6.71241053])"
      ]
     },
     "execution_count": 60,
     "metadata": {},
     "output_type": "execute_result"
    }
   ],
   "source": [
    "pca.explained_variance_ratio_ *100"
   ]
  },
  {
   "cell_type": "code",
   "execution_count": 61,
   "metadata": {},
   "outputs": [
    {
     "data": {
      "text/plain": [
       "Text(0.5, 1.0, 'Explained Variance of PCA features')"
      ]
     },
     "execution_count": 61,
     "metadata": {},
     "output_type": "execute_result"
    },
    {
     "data": {
      "image/png": "[encoded data removed]",
      "text/plain": [
       "<Figure size 640x480 with 1 Axes>"
      ]
     },
     "metadata": {},
     "output_type": "display_data"
    }
   ],
   "source": [
    "plt.plot(np.cumsum(pca.explained_variance_ratio_))\n",
    "plt.xlabel('Number of components')\n",
    "plt.ylabel('Explained Variance')\n",
    "plt.title('Explained Variance of PCA features')"
   ]
  },
  {
   "attachments": {},
   "cell_type": "markdown",
   "metadata": {},
   "source": [
    "# Elbow Curve for feature selection"
   ]
  },
  {
   "cell_type": "code",
   "execution_count": 62,
   "metadata": {},
   "outputs": [
    {
     "name": "stderr",
     "output_type": "stream",
     "text": [
      "c:\\Users\\zarah\\anaconda3\\lib\\site-packages\\sklearn\\cluster\\_kmeans.py:1036: UserWarning: KMeans is known to have a memory leak on Windows with MKL, when there are less chunks than available threads. You can avoid it by setting the environment variable OMP_NUM_THREADS=3.\n",
      "  warnings.warn(\n",
      "c:\\Users\\zarah\\anaconda3\\lib\\site-packages\\sklearn\\cluster\\_kmeans.py:1036: UserWarning: KMeans is known to have a memory leak on Windows with MKL, when there are less chunks than available threads. You can avoid it by setting the environment variable OMP_NUM_THREADS=3.\n",
      "  warnings.warn(\n"
     ]
    }
   ],
   "source": [
    "from sklearn.cluster import KMeans\n",
    "from scipy.spatial.distance import cdist\n",
    "\n",
    "\n",
    "distortions = []\n",
    "inertias = []\n",
    "mapping1 = {}\n",
    "mapping2 = {}\n",
    "K = range(1, 10)\n",
    "  \n",
    "for k in K:\n",
    "    # Building and fitting the model\n",
    "    kmeanModel = KMeans(n_clusters=k).fit(X)\n",
    "    kmeanModel.fit(X)\n",
    "  \n",
    "    distortions.append(sum(np.min(cdist(X, kmeanModel.cluster_centers_), axis=1)) / X.shape[0])\n",
    "    inertias.append(kmeanModel.inertia_)\n",
    "  \n",
    "    mapping1[k] = sum(np.min(cdist(X, kmeanModel.cluster_centers_), axis=1)) / X.shape[0]\n",
    "    mapping2[k] = kmeanModel.inertia_"
   ]
  },
  {
   "cell_type": "code",
   "execution_count": 63,
   "metadata": {},
   "outputs": [
    {
     "name": "stdout",
     "output_type": "stream",
     "text": [
      "1 : 1517.909848637011\n",
      "2 : 1444.1674723143424\n",
      "3 : 1020.0041920165924\n",
      "4 : 610.5686458308776\n",
      "5 : 430.9040010926704\n",
      "6 : 320.7559525774085\n",
      "7 : 254.81974084751974\n",
      "8 : 241.69139678627099\n",
      "9 : 191.93081015928217\n"
     ]
    }
   ],
   "source": [
    "for key, val in mapping1.items():\n",
    "    print(f'{key} : {val}')"
   ]
  },
  {
   "cell_type": "code",
   "execution_count": 64,
   "metadata": {},
   "outputs": [
    {
     "data": {
      "image/png": "[encoded data removed]",
      "text/plain": [
       "<Figure size 640x480 with 1 Axes>"
      ]
     },
     "metadata": {},
     "output_type": "display_data"
    }
   ],
   "source": [
    "plt.plot(K, distortions, 'bx-')\n",
    "plt.xlabel('Values of K')\n",
    "plt.ylabel('Distortion')\n",
    "plt.title('The Elbow Method using Distortion')\n",
    "plt.show()"
   ]
  },
  {
   "attachments": {},
   "cell_type": "markdown",
   "metadata": {},
   "source": [
    "# Modelling\n"
   ]
  },
  {
   "cell_type": "code",
   "execution_count": 65,
   "metadata": {},
   "outputs": [],
   "source": [
    "from sklearn.svm import SVC\n",
    "from sklearn.metrics import confusion_matrix, classification_report\n",
    "from sklearn.metrics import accuracy_score, precision_score, recall_score, f1_score, roc_auc_score, confusion_matrix, log_loss\n"
   ]
  },
  {
   "attachments": {},
   "cell_type": "markdown",
   "metadata": {},
   "source": [
    "## Logistic Regression"
   ]
  },
  {
   "cell_type": "code",
   "execution_count": 66,
   "metadata": {},
   "outputs": [
    {
     "name": "stdout",
     "output_type": "stream",
     "text": [
      "Accuracy:  0.7402597402597403\n",
      "Precision:  0.7109375\n",
      "Recall:  0.9680851063829787\n",
      "F1-score:  0.8198198198198199\n",
      "ROC-AUC score:  0.675709219858156\n",
      "Confusion Matrix:\n",
      " [[23 37]\n",
      " [ 3 91]]\n"
     ]
    }
   ],
   "source": [
    "logModel = LogisticRegression(max_iter=1000, random_state=100)\n",
    "logModel.fit(X_train, y_train)\n",
    "y_pred_logModel=logModel.predict(X_test)\n",
    "y_pred_logModel\n",
    "\n",
    "# Printing the evaluation metrics\n",
    "print(\"Accuracy: \", accuracy_score(y_test, y_pred_logModel))\n",
    "print(\"Precision: \", precision_score(y_test, y_pred_logModel))\n",
    "print(\"Recall: \", recall_score(y_test, y_pred_logModel))\n",
    "print(\"F1-score: \", f1_score(y_test, y_pred_logModel))\n",
    "print(\"ROC-AUC score: \", roc_auc_score(y_test, y_pred_logModel))\n",
    "print(\"Confusion Matrix:\\n\", confusion_matrix(y_test, y_pred_logModel))"
   ]
  },
  {
   "attachments": {},
   "cell_type": "markdown",
   "metadata": {},
   "source": [
    "## Random Forest Classifier"
   ]
  },
  {
   "cell_type": "code",
   "execution_count": 67,
   "metadata": {},
   "outputs": [
    {
     "name": "stdout",
     "output_type": "stream",
     "text": [
      "Accuracy:  0.7402597402597403\n",
      "Precision:  0.7109375\n",
      "Recall:  0.9680851063829787\n",
      "F1-score:  0.8198198198198199\n",
      "ROC-AUC score:  0.675709219858156\n",
      "Confusion Matrix:\n",
      " [[23 37]\n",
      " [ 3 91]]\n"
     ]
    }
   ],
   "source": [
    "rfcModel = RandomForestClassifier(n_estimators=1000, random_state=100)\n",
    "rfcModel.fit(X_train, y_train)\n",
    "y_pred_rfc=logModel.predict(X_test)\n",
    "y_pred_rfc\n",
    "\n",
    "\n",
    "# Printing the evaluation metrics\n",
    "print(\"Accuracy: \", accuracy_score(y_test, y_pred_rfc))\n",
    "print(\"Precision: \", precision_score(y_test, y_pred_rfc))\n",
    "print(\"Recall: \", recall_score(y_test, y_pred_rfc))\n",
    "print(\"F1-score: \", f1_score(y_test, y_pred_rfc))\n",
    "print(\"ROC-AUC score: \", roc_auc_score(y_test, y_pred_rfc))\n",
    "print(\"Confusion Matrix:\\n\", confusion_matrix(y_test, y_pred_rfc))"
   ]
  },
  {
   "attachments": {},
   "cell_type": "markdown",
   "metadata": {},
   "source": [
    "## Decision Tree Model"
   ]
  },
  {
   "cell_type": "code",
   "execution_count": 68,
   "metadata": {},
   "outputs": [
    {
     "name": "stdout",
     "output_type": "stream",
     "text": [
      "Accuracy:  0.7077922077922078\n",
      "Precision:  0.7333333333333333\n",
      "Recall:  0.8191489361702128\n",
      "F1-score:  0.7738693467336683\n",
      "ROC-AUC score:  0.676241134751773\n",
      "Confusion Matrix:\n",
      " [[32 28]\n",
      " [17 77]]\n"
     ]
    }
   ],
   "source": [
    "dtcModel = DecisionTreeClassifier()\n",
    "dtcModel.fit(X_train,y_train)\n",
    "y_pred_dtcModel=dtcModel.predict(X_test)\n",
    "y_pred_dtcModel\n",
    "\n",
    "# Printing the evaluation metrics\n",
    "print(\"Accuracy: \", accuracy_score(y_test, y_pred_dtcModel))\n",
    "print(\"Precision: \", precision_score(y_test, y_pred_dtcModel))\n",
    "print(\"Recall: \", recall_score(y_test, y_pred_dtcModel))\n",
    "print(\"F1-score: \", f1_score(y_test, y_pred_dtcModel))\n",
    "print(\"ROC-AUC score: \", roc_auc_score(y_test, y_pred_dtcModel))\n",
    "print(\"Confusion Matrix:\\n\", confusion_matrix(y_test, y_pred_dtcModel))\n"
   ]
  },
  {
   "attachments": {},
   "cell_type": "markdown",
   "metadata": {},
   "source": [
    "## KNClassifier"
   ]
  },
  {
   "cell_type": "code",
   "execution_count": 69,
   "metadata": {},
   "outputs": [
    {
     "name": "stdout",
     "output_type": "stream",
     "text": [
      "Accuracy:  0.6363636363636364\n",
      "Precision:  0.6439393939393939\n",
      "Recall:  0.9042553191489362\n",
      "F1-score:  0.7522123893805309\n",
      "ROC-AUC score:  0.5604609929078015\n",
      "Confusion Matrix:\n",
      " [[13 47]\n",
      " [ 9 85]]\n"
     ]
    },
    {
     "name": "stderr",
     "output_type": "stream",
     "text": [
      "c:\\Users\\zarah\\anaconda3\\lib\\site-packages\\sklearn\\neighbors\\_classification.py:228: FutureWarning: Unlike other reduction functions (e.g. `skew`, `kurtosis`), the default behavior of `mode` typically preserves the axis it acts along. In SciPy 1.11.0, this behavior will change: the default value of `keepdims` will become False, the `axis` over which the statistic is taken will be eliminated, and the value None will no longer be accepted. Set `keepdims` to True or False to avoid this warning.\n",
      "  mode, _ = stats.mode(_y[neigh_ind, k], axis=1)\n"
     ]
    }
   ],
   "source": [
    "knnModel = KNeighborsClassifier(n_neighbors=3)\n",
    "knnModel.fit(X_train, y_train)\n",
    "y_pred_knnModel=knnModel.predict(X_test)\n",
    "y_pred_knnModel\n",
    "\n",
    "# Printing the evaluation metrics\n",
    "print(\"Accuracy: \", accuracy_score(y_test, y_pred_knnModel))\n",
    "print(\"Precision: \", precision_score(y_test, y_pred_knnModel))\n",
    "print(\"Recall: \", recall_score(y_test, y_pred_knnModel))\n",
    "print(\"F1-score: \", f1_score(y_test, y_pred_knnModel))\n",
    "print(\"ROC-AUC score: \", roc_auc_score(y_test, y_pred_knnModel))\n",
    "print(\"Confusion Matrix:\\n\", confusion_matrix(y_test, y_pred_knnModel))"
   ]
  },
  {
   "cell_type": "markdown",
   "metadata": {},
   "source": [
    "Try paramater grid search to improve the results"
   ]
  },
  {
   "attachments": {},
   "cell_type": "markdown",
   "metadata": {},
   "source": [
    "# Grid Search\n",
    "- import libraries\n",
    "- The estimator parameter of GridSearchCV requires the model we are using for the hyper parameter tuning process\n",
    "- The param_grid parameter requires a list of parameters and the range of values for each parameter of the specified estimator\n",
    "- pass the features and the dependent variable(X and y) to the model\n",
    "- used the three hyper-parameters; C, epsilon and gamma"
   ]
  },
  {
   "cell_type": "code",
   "execution_count": 70,
   "metadata": {},
   "outputs": [],
   "source": [
    "from sklearn.model_selection import GridSearchCV\n",
    "from sklearn.svm import SVR\n",
    "from sklearn.model_selection import GridSearchCV, cross_validate\n",
    "import math\n"
   ]
  },
  {
   "attachments": {},
   "cell_type": "markdown",
   "metadata": {},
   "source": [
    "## Method 1 - Logistic Regression (Grid Search)"
   ]
  },
  {
   "cell_type": "code",
   "execution_count": 71,
   "metadata": {},
   "outputs": [
    {
     "name": "stdout",
     "output_type": "stream",
     "text": [
      "Best parameters:  {'C': 0.1, 'penalty': 'l1', 'solver': 'liblinear'}\n",
      "Best score:  0.832608695652174\n",
      "Accuracy Logistic Model:  0.7402597402597403\n",
      "Precision Logistic Model:  0.7109375\n",
      "Recall Logistic Model:  0.9680851063829787\n",
      "F1-score Logistic Model:  0.8198198198198199\n"
     ]
    }
   ],
   "source": [
    "# Trying the parameter grid search for the baseline_model_1 (Logistic Regression model)\n",
    "param_grid_lr = {\n",
    "    'penalty': ['l1', 'l2'],\n",
    "    'C': [0.1, 1, 10, 100],\n",
    "    'solver': ['liblinear', 'saga']\n",
    "}\n",
    "\n",
    "# Initializing the Logistic Regression model\n",
    "#lr = LogisticRegression(max_iter=1000, random_state=100)\n",
    "\n",
    "# Creating a GridSearchCV object and fitting it to the training data (Using the logModel previously created)\n",
    "grid_search_1 = GridSearchCV(estimator=logModel, param_grid=param_grid_lr, cv=5)\n",
    "grid_search_1.fit(X_train, y_train)\n",
    "\n",
    "# Printting the best parameters and best score\n",
    "print(\"Best parameters: \", grid_search_1.best_params_)\n",
    "print(\"Best score: \", grid_search_1.best_score_)\n",
    "\n",
    "# Predictting the labels of the testing data using the best estimator\n",
    "y_pred_logModel = grid_search_1.best_estimator_.predict(X_test)\n",
    "\n",
    "# Evaluating the model\n",
    "accuracy_logModel = accuracy_score(y_test, y_pred_logModel)\n",
    "precision_logModel = precision_score(y_test, y_pred_logModel)\n",
    "recall_logModel = recall_score(y_test, y_pred_logModel)\n",
    "f1_logModel = f1_score(y_test, y_pred_logModel)\n",
    "print(\"Accuracy Logistic Model: \", accuracy_logModel)\n",
    "print(\"Precision Logistic Model: \", precision_logModel)\n",
    "print(\"Recall Logistic Model: \", recall_logModel)\n",
    "print(\"F1-score Logistic Model: \", f1_logModel)"
   ]
  },
  {
   "cell_type": "code",
   "execution_count": 87,
   "metadata": {},
   "outputs": [],
   "source": [
    "import pickle\n",
    "\n",
    "pickle.dump(grid_search_1, open('ModelGS.pkl', 'wb'))"
   ]
  },
  {
   "cell_type": "code",
   "execution_count": 88,
   "metadata": {},
   "outputs": [],
   "source": [
    "load_model = pickle.load(open('ModelGS.pkl', 'rb'))"
   ]
  },
  {
   "cell_type": "markdown",
   "metadata": {
    "jupyter": {
     "outputs_hidden": false
    }
   },
   "source": [
    "## 5. Using Pipeline\n",
    "If you didn't use pipelines before, transform your data prep, feat. engineering and modeling steps into Pipeline. It will be helpful for deployment.\n",
    "\n",
    "The goal here is to create the pipeline that will take one row of our dataset and predict the probability of being granted a loan.\n",
    "\n",
    "`pipeline.predict(x)`"
   ]
  },
  {
   "cell_type": "code",
   "execution_count": 89,
   "metadata": {},
   "outputs": [],
   "source": [
    "import pandas as pd\n",
    "import numpy as np\n",
    "\n",
    "from sklearn.pipeline import Pipeline, FeatureUnion\n",
    "from sklearn.preprocessing import StandardScaler\n",
    "from sklearn.decomposition import PCA\n",
    "from sklearn.feature_selection import SelectKBest\n",
    "import pickle"
   ]
  },
  {
   "cell_type": "code",
   "execution_count": 90,
   "metadata": {},
   "outputs": [],
   "source": [
    "# Our own class to be inserted into the pipeline\n",
    "class RawFeats:\n",
    "    def __init__(self, feats):\n",
    "        self.feats = feats\n",
    "\n",
    "    def fit(self, X, y=None):\n",
    "        pass\n",
    "\n",
    "    def transform(self, X, y=None):\n",
    "        return X[self.feats]\n",
    "\n",
    "    def fit_transform(self, X, y=None):\n",
    "        self.fit(X)\n",
    "        return self.transform(X)\n",
    "\n",
    "# Features from X we want to keep for our PCA\n",
    "feats = ['Dependents','CoapplicantIncome','Loan_Amount_Term',\n",
    "        'Credit_History','ApplicantIncome_Log','LoanAmount_Log',\n",
    "        'TotalIncome_Log','Married_new','Gender_new',\n",
    "        'Self_Employed_new','Education_new','Property_Area_new']\n",
    "# Creating a class object with indexes we want to keep\n",
    "raw_feats = RawFeats(feats)"
   ]
  },
  {
   "cell_type": "code",
   "execution_count": 91,
   "metadata": {},
   "outputs": [],
   "source": [
    "# Logistic Regressor Model\n",
    "lr = LogisticRegression()"
   ]
  },
  {
   "cell_type": "code",
   "execution_count": 92,
   "metadata": {},
   "outputs": [],
   "source": [
    "# Combining everything into our pipeline\n",
    "PCA_pipeline = Pipeline([\n",
    "    (\"rawFeats\", raw_feats),\n",
    "    (\"scaler\", StandardScaler()),\n",
    "    (\"pca\", PCA(n_components=5))\n",
    "])\n",
    "\n",
    "kbest_pipeline = Pipeline([(\"kBest\", SelectKBest(k=3))])"
   ]
  },
  {
   "cell_type": "code",
   "execution_count": 93,
   "metadata": {},
   "outputs": [],
   "source": [
    "# Combining the outputs with FeatureUnion\n",
    "all_features = FeatureUnion([\n",
    "    (\"pcaPipeline\", PCA_pipeline), \n",
    "    (\"kBestPipeline\", kbest_pipeline)\n",
    "])"
   ]
  },
  {
   "cell_type": "code",
   "execution_count": 94,
   "metadata": {},
   "outputs": [],
   "source": [
    "# Creating the main pipeline\n",
    "main_pipeline = Pipeline([\n",
    "    (\"features\", all_features),\n",
    "    (\"lr\", lr)\n",
    "])"
   ]
  },
  {
   "cell_type": "code",
   "execution_count": 95,
   "metadata": {},
   "outputs": [
    {
     "name": "stdout",
     "output_type": "stream",
     "text": [
      "dict_keys(['C', 'class_weight', 'dual', 'fit_intercept', 'intercept_scaling', 'l1_ratio', 'max_iter', 'multi_class', 'n_jobs', 'penalty', 'random_state', 'solver', 'tol', 'verbose', 'warm_start'])\n"
     ]
    }
   ],
   "source": [
    "# Checking the estimator parameters first\n",
    "estimator = LogisticRegression()\n",
    "print(estimator.get_params().keys())"
   ]
  },
  {
   "cell_type": "code",
   "execution_count": 96,
   "metadata": {},
   "outputs": [
    {
     "name": "stdout",
     "output_type": "stream",
     "text": [
      "Fitting 5 folds for each of 720 candidates, totalling 3600 fits\n"
     ]
    },
    {
     "data": {
      "text/html": [
       "<style>#sk-0f7ac547-8522-4e2c-9ad5-da7b5127c81b {color: black;background-color: white;}#sk-0f7ac547-8522-4e2c-9ad5-da7b5127c81b pre{padding: 0;}#sk-0f7ac547-8522-4e2c-9ad5-da7b5127c81b div.sk-toggleable {background-color: white;}#sk-0f7ac547-8522-4e2c-9ad5-da7b5127c81b label.sk-toggleable__label {cursor: pointer;display: block;width: 100%;margin-bottom: 0;padding: 0.3em;box-sizing: border-box;text-align: center;}#sk-0f7ac547-8522-4e2c-9ad5-da7b5127c81b label.sk-toggleable__label-arrow:before {content: \"▸\";float: left;margin-right: 0.25em;color: #696969;}#sk-0f7ac547-8522-4e2c-9ad5-da7b5127c81b label.sk-toggleable__label-arrow:hover:before {color: black;}#sk-0f7ac547-8522-4e2c-9ad5-da7b5127c81b div.sk-estimator:hover label.sk-toggleable__label-arrow:before {color: black;}#sk-0f7ac547-8522-4e2c-9ad5-da7b5127c81b div.sk-toggleable__content {max-height: 0;max-width: 0;overflow: hidden;text-align: left;background-color: #f0f8ff;}#sk-0f7ac547-8522-4e2c-9ad5-da7b5127c81b div.sk-toggleable__content pre {margin: 0.2em;color: black;border-radius: 0.25em;background-color: #f0f8ff;}#sk-0f7ac547-8522-4e2c-9ad5-da7b5127c81b input.sk-toggleable__control:checked~div.sk-toggleable__content {max-height: 200px;max-width: 100%;overflow: auto;}#sk-0f7ac547-8522-4e2c-9ad5-da7b5127c81b input.sk-toggleable__control:checked~label.sk-toggleable__label-arrow:before {content: \"▾\";}#sk-0f7ac547-8522-4e2c-9ad5-da7b5127c81b div.sk-estimator input.sk-toggleable__control:checked~label.sk-toggleable__label {background-color: #d4ebff;}#sk-0f7ac547-8522-4e2c-9ad5-da7b5127c81b div.sk-label input.sk-toggleable__control:checked~label.sk-toggleable__label {background-color: #d4ebff;}#sk-0f7ac547-8522-4e2c-9ad5-da7b5127c81b input.sk-hidden--visually {border: 0;clip: rect(1px 1px 1px 1px);clip: rect(1px, 1px, 1px, 1px);height: 1px;margin: -1px;overflow: hidden;padding: 0;position: absolute;width: 1px;}#sk-0f7ac547-8522-4e2c-9ad5-da7b5127c81b div.sk-estimator {font-family: monospace;background-color: #f0f8ff;border: 1px dotted black;border-radius: 0.25em;box-sizing: border-box;margin-bottom: 0.5em;}#sk-0f7ac547-8522-4e2c-9ad5-da7b5127c81b div.sk-estimator:hover {background-color: #d4ebff;}#sk-0f7ac547-8522-4e2c-9ad5-da7b5127c81b div.sk-parallel-item::after {content: \"\";width: 100%;border-bottom: 1px solid gray;flex-grow: 1;}#sk-0f7ac547-8522-4e2c-9ad5-da7b5127c81b div.sk-label:hover label.sk-toggleable__label {background-color: #d4ebff;}#sk-0f7ac547-8522-4e2c-9ad5-da7b5127c81b div.sk-serial::before {content: \"\";position: absolute;border-left: 1px solid gray;box-sizing: border-box;top: 2em;bottom: 0;left: 50%;}#sk-0f7ac547-8522-4e2c-9ad5-da7b5127c81b div.sk-serial {display: flex;flex-direction: column;align-items: center;background-color: white;padding-right: 0.2em;padding-left: 0.2em;}#sk-0f7ac547-8522-4e2c-9ad5-da7b5127c81b div.sk-item {z-index: 1;}#sk-0f7ac547-8522-4e2c-9ad5-da7b5127c81b div.sk-parallel {display: flex;align-items: stretch;justify-content: center;background-color: white;}#sk-0f7ac547-8522-4e2c-9ad5-da7b5127c81b div.sk-parallel::before {content: \"\";position: absolute;border-left: 1px solid gray;box-sizing: border-box;top: 2em;bottom: 0;left: 50%;}#sk-0f7ac547-8522-4e2c-9ad5-da7b5127c81b div.sk-parallel-item {display: flex;flex-direction: column;position: relative;background-color: white;}#sk-0f7ac547-8522-4e2c-9ad5-da7b5127c81b div.sk-parallel-item:first-child::after {align-self: flex-end;width: 50%;}#sk-0f7ac547-8522-4e2c-9ad5-da7b5127c81b div.sk-parallel-item:last-child::after {align-self: flex-start;width: 50%;}#sk-0f7ac547-8522-4e2c-9ad5-da7b5127c81b div.sk-parallel-item:only-child::after {width: 0;}#sk-0f7ac547-8522-4e2c-9ad5-da7b5127c81b div.sk-dashed-wrapped {border: 1px dashed gray;margin: 0 0.4em 0.5em 0.4em;box-sizing: border-box;padding-bottom: 0.4em;background-color: white;position: relative;}#sk-0f7ac547-8522-4e2c-9ad5-da7b5127c81b div.sk-label label {font-family: monospace;font-weight: bold;background-color: white;display: inline-block;line-height: 1.2em;}#sk-0f7ac547-8522-4e2c-9ad5-da7b5127c81b div.sk-label-container {position: relative;z-index: 2;text-align: center;}#sk-0f7ac547-8522-4e2c-9ad5-da7b5127c81b div.sk-container {/* jupyter's `normalize.less` sets `[hidden] { display: none; }` but bootstrap.min.css set `[hidden] { display: none !important; }` so we also need the `!important` here to be able to override the default hidden behavior on the sphinx rendered scikit-learn.org. See: https://github.com/scikit-learn/scikit-learn/issues/21755 */display: inline-block !important;position: relative;}#sk-0f7ac547-8522-4e2c-9ad5-da7b5127c81b div.sk-text-repr-fallback {display: none;}</style><div id=\"sk-0f7ac547-8522-4e2c-9ad5-da7b5127c81b\" class=\"sk-top-container\"><div class=\"sk-text-repr-fallback\"><pre>GridSearchCV(estimator=Pipeline(steps=[(&#x27;features&#x27;,\n",
       "                                        FeatureUnion(transformer_list=[(&#x27;pcaPipeline&#x27;,\n",
       "                                                                        Pipeline(steps=[(&#x27;rawFeats&#x27;,\n",
       "                                                                                         &lt;__main__.RawFeats object at 0x0000023174B780D0&gt;),\n",
       "                                                                                        (&#x27;scaler&#x27;,\n",
       "                                                                                         StandardScaler()),\n",
       "                                                                                        (&#x27;pca&#x27;,\n",
       "                                                                                         PCA(n_components=5))])),\n",
       "                                                                       (&#x27;kBestPipeline&#x27;,\n",
       "                                                                        Pipeline(steps=[(&#x27;kBest&#x27;,\n",
       "                                                                                         SelectKBest(k=3))]))])),\n",
       "                                       (&#x27;lr&#x27;, LogisticRegression())]),\n",
       "             n_jobs=-1,\n",
       "             param_grid={&#x27;features__kBestPipeline__kBest__k&#x27;: [1, 2, 3],\n",
       "                         &#x27;features__pcaPipeline__pca__n_components&#x27;: [1, 2, 3,\n",
       "                                                                      4, 5],\n",
       "                         &#x27;lr__C&#x27;: [0.1, 1, 10, 100],\n",
       "                         &#x27;lr__max_iter&#x27;: [100, 500, 1000],\n",
       "                         &#x27;lr__penalty&#x27;: [&#x27;l1&#x27;, &#x27;l2&#x27;],\n",
       "                         &#x27;lr__solver&#x27;: [&#x27;liblinear&#x27;, &#x27;saga&#x27;]},\n",
       "             verbose=10)</pre><b>Please rerun this cell to show the HTML repr or trust the notebook.</b></div><div class=\"sk-container\" hidden><div class=\"sk-item sk-dashed-wrapped\"><div class=\"sk-label-container\"><div class=\"sk-label sk-toggleable\"><input class=\"sk-toggleable__control sk-hidden--visually\" id=\"c6cfbd74-235d-4e64-aa64-6dd68880d19c\" type=\"checkbox\" ><label for=\"c6cfbd74-235d-4e64-aa64-6dd68880d19c\" class=\"sk-toggleable__label sk-toggleable__label-arrow\">GridSearchCV</label><div class=\"sk-toggleable__content\"><pre>GridSearchCV(estimator=Pipeline(steps=[(&#x27;features&#x27;,\n",
       "                                        FeatureUnion(transformer_list=[(&#x27;pcaPipeline&#x27;,\n",
       "                                                                        Pipeline(steps=[(&#x27;rawFeats&#x27;,\n",
       "                                                                                         &lt;__main__.RawFeats object at 0x0000023174B780D0&gt;),\n",
       "                                                                                        (&#x27;scaler&#x27;,\n",
       "                                                                                         StandardScaler()),\n",
       "                                                                                        (&#x27;pca&#x27;,\n",
       "                                                                                         PCA(n_components=5))])),\n",
       "                                                                       (&#x27;kBestPipeline&#x27;,\n",
       "                                                                        Pipeline(steps=[(&#x27;kBest&#x27;,\n",
       "                                                                                         SelectKBest(k=3))]))])),\n",
       "                                       (&#x27;lr&#x27;, LogisticRegression())]),\n",
       "             n_jobs=-1,\n",
       "             param_grid={&#x27;features__kBestPipeline__kBest__k&#x27;: [1, 2, 3],\n",
       "                         &#x27;features__pcaPipeline__pca__n_components&#x27;: [1, 2, 3,\n",
       "                                                                      4, 5],\n",
       "                         &#x27;lr__C&#x27;: [0.1, 1, 10, 100],\n",
       "                         &#x27;lr__max_iter&#x27;: [100, 500, 1000],\n",
       "                         &#x27;lr__penalty&#x27;: [&#x27;l1&#x27;, &#x27;l2&#x27;],\n",
       "                         &#x27;lr__solver&#x27;: [&#x27;liblinear&#x27;, &#x27;saga&#x27;]},\n",
       "             verbose=10)</pre></div></div></div><div class=\"sk-parallel\"><div class=\"sk-parallel-item\"><div class=\"sk-item\"><div class=\"sk-serial\"><div class=\"sk-item\"><div class=\"sk-serial\"><div class=\"sk-item sk-dashed-wrapped\"><div class=\"sk-label-container\"><div class=\"sk-label sk-toggleable\"><input class=\"sk-toggleable__control sk-hidden--visually\" id=\"8847959e-0348-40d5-b43f-c2528a95164c\" type=\"checkbox\" ><label for=\"8847959e-0348-40d5-b43f-c2528a95164c\" class=\"sk-toggleable__label sk-toggleable__label-arrow\">features: FeatureUnion</label><div class=\"sk-toggleable__content\"><pre>FeatureUnion(transformer_list=[(&#x27;pcaPipeline&#x27;,\n",
       "                                Pipeline(steps=[(&#x27;rawFeats&#x27;,\n",
       "                                                 &lt;__main__.RawFeats object at 0x0000023174B780D0&gt;),\n",
       "                                                (&#x27;scaler&#x27;, StandardScaler()),\n",
       "                                                (&#x27;pca&#x27;, PCA(n_components=5))])),\n",
       "                               (&#x27;kBestPipeline&#x27;,\n",
       "                                Pipeline(steps=[(&#x27;kBest&#x27;, SelectKBest(k=3))]))])</pre></div></div></div><div class=\"sk-parallel\"><div class=\"sk-parallel-item\"><div class=\"sk-item\"><div class=\"sk-label-container\"><div class=\"sk-label sk-toggleable\"><label>pcaPipeline</label></div></div><div class=\"sk-serial\"><div class=\"sk-item\"><div class=\"sk-serial\"><div class=\"sk-item\"><div class=\"sk-estimator sk-toggleable\"><input class=\"sk-toggleable__control sk-hidden--visually\" id=\"9611c3ff-b268-40a5-8ce1-392001c4f7d1\" type=\"checkbox\" ><label for=\"9611c3ff-b268-40a5-8ce1-392001c4f7d1\" class=\"sk-toggleable__label sk-toggleable__label-arrow\">RawFeats</label><div class=\"sk-toggleable__content\"><pre>&lt;__main__.RawFeats object at 0x0000023174B780D0&gt;</pre></div></div></div><div class=\"sk-item\"><div class=\"sk-estimator sk-toggleable\"><input class=\"sk-toggleable__control sk-hidden--visually\" id=\"67606ce8-60cb-4f26-b05e-23c776c68ed6\" type=\"checkbox\" ><label for=\"67606ce8-60cb-4f26-b05e-23c776c68ed6\" class=\"sk-toggleable__label sk-toggleable__label-arrow\">StandardScaler</label><div class=\"sk-toggleable__content\"><pre>StandardScaler()</pre></div></div></div><div class=\"sk-item\"><div class=\"sk-estimator sk-toggleable\"><input class=\"sk-toggleable__control sk-hidden--visually\" id=\"31605870-6b20-4807-aee7-70600fae9e21\" type=\"checkbox\" ><label for=\"31605870-6b20-4807-aee7-70600fae9e21\" class=\"sk-toggleable__label sk-toggleable__label-arrow\">PCA</label><div class=\"sk-toggleable__content\"><pre>PCA(n_components=5)</pre></div></div></div></div></div></div></div></div><div class=\"sk-parallel-item\"><div class=\"sk-item\"><div class=\"sk-label-container\"><div class=\"sk-label sk-toggleable\"><label>kBestPipeline</label></div></div><div class=\"sk-serial\"><div class=\"sk-item\"><div class=\"sk-serial\"><div class=\"sk-item\"><div class=\"sk-estimator sk-toggleable\"><input class=\"sk-toggleable__control sk-hidden--visually\" id=\"55568f17-ae84-4c22-ac72-e08347872f4a\" type=\"checkbox\" ><label for=\"55568f17-ae84-4c22-ac72-e08347872f4a\" class=\"sk-toggleable__label sk-toggleable__label-arrow\">SelectKBest</label><div class=\"sk-toggleable__content\"><pre>SelectKBest(k=3)</pre></div></div></div></div></div></div></div></div></div></div><div class=\"sk-item\"><div class=\"sk-estimator sk-toggleable\"><input class=\"sk-toggleable__control sk-hidden--visually\" id=\"b40957b9-bfc5-4217-836c-8d284f2cb238\" type=\"checkbox\" ><label for=\"b40957b9-bfc5-4217-836c-8d284f2cb238\" class=\"sk-toggleable__label sk-toggleable__label-arrow\">LogisticRegression</label><div class=\"sk-toggleable__content\"><pre>LogisticRegression()</pre></div></div></div></div></div></div></div></div></div></div></div></div>"
      ],
      "text/plain": [
       "GridSearchCV(estimator=Pipeline(steps=[('features',\n",
       "                                        FeatureUnion(transformer_list=[('pcaPipeline',\n",
       "                                                                        Pipeline(steps=[('rawFeats',\n",
       "                                                                                         <__main__.RawFeats object at 0x0000023174B780D0>),\n",
       "                                                                                        ('scaler',\n",
       "                                                                                         StandardScaler()),\n",
       "                                                                                        ('pca',\n",
       "                                                                                         PCA(n_components=5))])),\n",
       "                                                                       ('kBestPipeline',\n",
       "                                                                        Pipeline(steps=[('kBest',\n",
       "                                                                                         SelectKBest(k=3))]))])),\n",
       "                                       ('lr', LogisticRegression())]),\n",
       "             n_jobs=-1,\n",
       "             param_grid={'features__kBestPipeline__kBest__k': [1, 2, 3],\n",
       "                         'features__pcaPipeline__pca__n_components': [1, 2, 3,\n",
       "                                                                      4, 5],\n",
       "                         'lr__C': [0.1, 1, 10, 100],\n",
       "                         'lr__max_iter': [100, 500, 1000],\n",
       "                         'lr__penalty': ['l1', 'l2'],\n",
       "                         'lr__solver': ['liblinear', 'saga']},\n",
       "             verbose=10)"
      ]
     },
     "execution_count": 96,
     "metadata": {},
     "output_type": "execute_result"
    }
   ],
   "source": [
    "# Seeting the hyperparameter tunning with GridSearchCV\n",
    "param_grid = {\"features__pcaPipeline__pca__n_components\": [1, 2, 3, 4, 5],\n",
    "                  \"features__kBestPipeline__kBest__k\": [1, 2, 3],\n",
    "                  \"lr__max_iter\":[100, 500, 1000],\n",
    "                  \"lr__C\": [0.1, 1, 10, 100], \n",
    "                  \"lr__penalty\": ['l1', 'l2'],\n",
    "                  \"lr__solver\": ['liblinear', 'saga']\n",
    "             }\n",
    "\n",
    "# Creating a Grid Search object\n",
    "grid_search = GridSearchCV(main_pipeline, param_grid, n_jobs = -1, verbose=10, refit=True)    \n",
    "\n",
    "# Fitting the model and tune parameters\n",
    "grid_search.fit(X_train, y_train)"
   ]
  },
  {
   "cell_type": "code",
   "execution_count": 97,
   "metadata": {},
   "outputs": [
    {
     "data": {
      "text/html": [
       "<style>#sk-1468b0fb-4ca4-4c14-8dcd-e397c93ad791 {color: black;background-color: white;}#sk-1468b0fb-4ca4-4c14-8dcd-e397c93ad791 pre{padding: 0;}#sk-1468b0fb-4ca4-4c14-8dcd-e397c93ad791 div.sk-toggleable {background-color: white;}#sk-1468b0fb-4ca4-4c14-8dcd-e397c93ad791 label.sk-toggleable__label {cursor: pointer;display: block;width: 100%;margin-bottom: 0;padding: 0.3em;box-sizing: border-box;text-align: center;}#sk-1468b0fb-4ca4-4c14-8dcd-e397c93ad791 label.sk-toggleable__label-arrow:before {content: \"▸\";float: left;margin-right: 0.25em;color: #696969;}#sk-1468b0fb-4ca4-4c14-8dcd-e397c93ad791 label.sk-toggleable__label-arrow:hover:before {color: black;}#sk-1468b0fb-4ca4-4c14-8dcd-e397c93ad791 div.sk-estimator:hover label.sk-toggleable__label-arrow:before {color: black;}#sk-1468b0fb-4ca4-4c14-8dcd-e397c93ad791 div.sk-toggleable__content {max-height: 0;max-width: 0;overflow: hidden;text-align: left;background-color: #f0f8ff;}#sk-1468b0fb-4ca4-4c14-8dcd-e397c93ad791 div.sk-toggleable__content pre {margin: 0.2em;color: black;border-radius: 0.25em;background-color: #f0f8ff;}#sk-1468b0fb-4ca4-4c14-8dcd-e397c93ad791 input.sk-toggleable__control:checked~div.sk-toggleable__content {max-height: 200px;max-width: 100%;overflow: auto;}#sk-1468b0fb-4ca4-4c14-8dcd-e397c93ad791 input.sk-toggleable__control:checked~label.sk-toggleable__label-arrow:before {content: \"▾\";}#sk-1468b0fb-4ca4-4c14-8dcd-e397c93ad791 div.sk-estimator input.sk-toggleable__control:checked~label.sk-toggleable__label {background-color: #d4ebff;}#sk-1468b0fb-4ca4-4c14-8dcd-e397c93ad791 div.sk-label input.sk-toggleable__control:checked~label.sk-toggleable__label {background-color: #d4ebff;}#sk-1468b0fb-4ca4-4c14-8dcd-e397c93ad791 input.sk-hidden--visually {border: 0;clip: rect(1px 1px 1px 1px);clip: rect(1px, 1px, 1px, 1px);height: 1px;margin: -1px;overflow: hidden;padding: 0;position: absolute;width: 1px;}#sk-1468b0fb-4ca4-4c14-8dcd-e397c93ad791 div.sk-estimator {font-family: monospace;background-color: #f0f8ff;border: 1px dotted black;border-radius: 0.25em;box-sizing: border-box;margin-bottom: 0.5em;}#sk-1468b0fb-4ca4-4c14-8dcd-e397c93ad791 div.sk-estimator:hover {background-color: #d4ebff;}#sk-1468b0fb-4ca4-4c14-8dcd-e397c93ad791 div.sk-parallel-item::after {content: \"\";width: 100%;border-bottom: 1px solid gray;flex-grow: 1;}#sk-1468b0fb-4ca4-4c14-8dcd-e397c93ad791 div.sk-label:hover label.sk-toggleable__label {background-color: #d4ebff;}#sk-1468b0fb-4ca4-4c14-8dcd-e397c93ad791 div.sk-serial::before {content: \"\";position: absolute;border-left: 1px solid gray;box-sizing: border-box;top: 2em;bottom: 0;left: 50%;}#sk-1468b0fb-4ca4-4c14-8dcd-e397c93ad791 div.sk-serial {display: flex;flex-direction: column;align-items: center;background-color: white;padding-right: 0.2em;padding-left: 0.2em;}#sk-1468b0fb-4ca4-4c14-8dcd-e397c93ad791 div.sk-item {z-index: 1;}#sk-1468b0fb-4ca4-4c14-8dcd-e397c93ad791 div.sk-parallel {display: flex;align-items: stretch;justify-content: center;background-color: white;}#sk-1468b0fb-4ca4-4c14-8dcd-e397c93ad791 div.sk-parallel::before {content: \"\";position: absolute;border-left: 1px solid gray;box-sizing: border-box;top: 2em;bottom: 0;left: 50%;}#sk-1468b0fb-4ca4-4c14-8dcd-e397c93ad791 div.sk-parallel-item {display: flex;flex-direction: column;position: relative;background-color: white;}#sk-1468b0fb-4ca4-4c14-8dcd-e397c93ad791 div.sk-parallel-item:first-child::after {align-self: flex-end;width: 50%;}#sk-1468b0fb-4ca4-4c14-8dcd-e397c93ad791 div.sk-parallel-item:last-child::after {align-self: flex-start;width: 50%;}#sk-1468b0fb-4ca4-4c14-8dcd-e397c93ad791 div.sk-parallel-item:only-child::after {width: 0;}#sk-1468b0fb-4ca4-4c14-8dcd-e397c93ad791 div.sk-dashed-wrapped {border: 1px dashed gray;margin: 0 0.4em 0.5em 0.4em;box-sizing: border-box;padding-bottom: 0.4em;background-color: white;position: relative;}#sk-1468b0fb-4ca4-4c14-8dcd-e397c93ad791 div.sk-label label {font-family: monospace;font-weight: bold;background-color: white;display: inline-block;line-height: 1.2em;}#sk-1468b0fb-4ca4-4c14-8dcd-e397c93ad791 div.sk-label-container {position: relative;z-index: 2;text-align: center;}#sk-1468b0fb-4ca4-4c14-8dcd-e397c93ad791 div.sk-container {/* jupyter's `normalize.less` sets `[hidden] { display: none; }` but bootstrap.min.css set `[hidden] { display: none !important; }` so we also need the `!important` here to be able to override the default hidden behavior on the sphinx rendered scikit-learn.org. See: https://github.com/scikit-learn/scikit-learn/issues/21755 */display: inline-block !important;position: relative;}#sk-1468b0fb-4ca4-4c14-8dcd-e397c93ad791 div.sk-text-repr-fallback {display: none;}</style><div id=\"sk-1468b0fb-4ca4-4c14-8dcd-e397c93ad791\" class=\"sk-top-container\"><div class=\"sk-text-repr-fallback\"><pre>Pipeline(steps=[(&#x27;features&#x27;,\n",
       "                 FeatureUnion(transformer_list=[(&#x27;pcaPipeline&#x27;,\n",
       "                                                 Pipeline(steps=[(&#x27;rawFeats&#x27;,\n",
       "                                                                  &lt;__main__.RawFeats object at 0x0000023174B780D0&gt;),\n",
       "                                                                 (&#x27;scaler&#x27;,\n",
       "                                                                  StandardScaler()),\n",
       "                                                                 (&#x27;pca&#x27;,\n",
       "                                                                  PCA(n_components=5))])),\n",
       "                                                (&#x27;kBestPipeline&#x27;,\n",
       "                                                 Pipeline(steps=[(&#x27;kBest&#x27;,\n",
       "                                                                  SelectKBest(k=3))]))])),\n",
       "                (&#x27;lr&#x27;, LogisticRegression())])</pre><b>Please rerun this cell to show the HTML repr or trust the notebook.</b></div><div class=\"sk-container\" hidden><div class=\"sk-item sk-dashed-wrapped\"><div class=\"sk-label-container\"><div class=\"sk-label sk-toggleable\"><input class=\"sk-toggleable__control sk-hidden--visually\" id=\"f4431afc-dea4-441b-bcf2-7c1421f8d6da\" type=\"checkbox\" ><label for=\"f4431afc-dea4-441b-bcf2-7c1421f8d6da\" class=\"sk-toggleable__label sk-toggleable__label-arrow\">Pipeline</label><div class=\"sk-toggleable__content\"><pre>Pipeline(steps=[(&#x27;features&#x27;,\n",
       "                 FeatureUnion(transformer_list=[(&#x27;pcaPipeline&#x27;,\n",
       "                                                 Pipeline(steps=[(&#x27;rawFeats&#x27;,\n",
       "                                                                  &lt;__main__.RawFeats object at 0x0000023174B780D0&gt;),\n",
       "                                                                 (&#x27;scaler&#x27;,\n",
       "                                                                  StandardScaler()),\n",
       "                                                                 (&#x27;pca&#x27;,\n",
       "                                                                  PCA(n_components=5))])),\n",
       "                                                (&#x27;kBestPipeline&#x27;,\n",
       "                                                 Pipeline(steps=[(&#x27;kBest&#x27;,\n",
       "                                                                  SelectKBest(k=3))]))])),\n",
       "                (&#x27;lr&#x27;, LogisticRegression())])</pre></div></div></div><div class=\"sk-serial\"><div class=\"sk-item sk-dashed-wrapped\"><div class=\"sk-label-container\"><div class=\"sk-label sk-toggleable\"><input class=\"sk-toggleable__control sk-hidden--visually\" id=\"e4af471f-8923-4e35-9511-9f913b655b7a\" type=\"checkbox\" ><label for=\"e4af471f-8923-4e35-9511-9f913b655b7a\" class=\"sk-toggleable__label sk-toggleable__label-arrow\">features: FeatureUnion</label><div class=\"sk-toggleable__content\"><pre>FeatureUnion(transformer_list=[(&#x27;pcaPipeline&#x27;,\n",
       "                                Pipeline(steps=[(&#x27;rawFeats&#x27;,\n",
       "                                                 &lt;__main__.RawFeats object at 0x0000023174B780D0&gt;),\n",
       "                                                (&#x27;scaler&#x27;, StandardScaler()),\n",
       "                                                (&#x27;pca&#x27;, PCA(n_components=5))])),\n",
       "                               (&#x27;kBestPipeline&#x27;,\n",
       "                                Pipeline(steps=[(&#x27;kBest&#x27;, SelectKBest(k=3))]))])</pre></div></div></div><div class=\"sk-parallel\"><div class=\"sk-parallel-item\"><div class=\"sk-item\"><div class=\"sk-label-container\"><div class=\"sk-label sk-toggleable\"><label>pcaPipeline</label></div></div><div class=\"sk-serial\"><div class=\"sk-item\"><div class=\"sk-serial\"><div class=\"sk-item\"><div class=\"sk-estimator sk-toggleable\"><input class=\"sk-toggleable__control sk-hidden--visually\" id=\"b5169213-2a84-430e-90a5-73894cbbceaa\" type=\"checkbox\" ><label for=\"b5169213-2a84-430e-90a5-73894cbbceaa\" class=\"sk-toggleable__label sk-toggleable__label-arrow\">RawFeats</label><div class=\"sk-toggleable__content\"><pre>&lt;__main__.RawFeats object at 0x0000023174B780D0&gt;</pre></div></div></div><div class=\"sk-item\"><div class=\"sk-estimator sk-toggleable\"><input class=\"sk-toggleable__control sk-hidden--visually\" id=\"d9232f1c-ada8-4cdf-8c40-cd5153a56f9a\" type=\"checkbox\" ><label for=\"d9232f1c-ada8-4cdf-8c40-cd5153a56f9a\" class=\"sk-toggleable__label sk-toggleable__label-arrow\">StandardScaler</label><div class=\"sk-toggleable__content\"><pre>StandardScaler()</pre></div></div></div><div class=\"sk-item\"><div class=\"sk-estimator sk-toggleable\"><input class=\"sk-toggleable__control sk-hidden--visually\" id=\"09b3a69d-dff2-4d52-b83c-9dcf635247b8\" type=\"checkbox\" ><label for=\"09b3a69d-dff2-4d52-b83c-9dcf635247b8\" class=\"sk-toggleable__label sk-toggleable__label-arrow\">PCA</label><div class=\"sk-toggleable__content\"><pre>PCA(n_components=5)</pre></div></div></div></div></div></div></div></div><div class=\"sk-parallel-item\"><div class=\"sk-item\"><div class=\"sk-label-container\"><div class=\"sk-label sk-toggleable\"><label>kBestPipeline</label></div></div><div class=\"sk-serial\"><div class=\"sk-item\"><div class=\"sk-serial\"><div class=\"sk-item\"><div class=\"sk-estimator sk-toggleable\"><input class=\"sk-toggleable__control sk-hidden--visually\" id=\"7dbaa4aa-3788-4146-b147-708eb1fb5a37\" type=\"checkbox\" ><label for=\"7dbaa4aa-3788-4146-b147-708eb1fb5a37\" class=\"sk-toggleable__label sk-toggleable__label-arrow\">SelectKBest</label><div class=\"sk-toggleable__content\"><pre>SelectKBest(k=3)</pre></div></div></div></div></div></div></div></div></div></div><div class=\"sk-item\"><div class=\"sk-estimator sk-toggleable\"><input class=\"sk-toggleable__control sk-hidden--visually\" id=\"e3d3c741-c93c-46a5-9f6f-dfca329e8e08\" type=\"checkbox\" ><label for=\"e3d3c741-c93c-46a5-9f6f-dfca329e8e08\" class=\"sk-toggleable__label sk-toggleable__label-arrow\">LogisticRegression</label><div class=\"sk-toggleable__content\"><pre>LogisticRegression()</pre></div></div></div></div></div></div></div>"
      ],
      "text/plain": [
       "Pipeline(steps=[('features',\n",
       "                 FeatureUnion(transformer_list=[('pcaPipeline',\n",
       "                                                 Pipeline(steps=[('rawFeats',\n",
       "                                                                  <__main__.RawFeats object at 0x0000023174B780D0>),\n",
       "                                                                 ('scaler',\n",
       "                                                                  StandardScaler()),\n",
       "                                                                 ('pca',\n",
       "                                                                  PCA(n_components=5))])),\n",
       "                                                ('kBestPipeline',\n",
       "                                                 Pipeline(steps=[('kBest',\n",
       "                                                                  SelectKBest(k=3))]))])),\n",
       "                ('lr', LogisticRegression())])"
      ]
     },
     "execution_count": 97,
     "metadata": {},
     "output_type": "execute_result"
    }
   ],
   "source": [
    "# Visualizing the pipeline\n",
    "from sklearn import set_config\n",
    "set_config(display='diagram')\n",
    "main_pipeline"
   ]
  },
  {
   "cell_type": "code",
   "execution_count": 98,
   "metadata": {},
   "outputs": [
    {
     "name": "stdout",
     "output_type": "stream",
     "text": [
      "{'features__kBestPipeline__kBest__k': 1, 'features__pcaPipeline__pca__n_components': 5, 'lr__C': 0.1, 'lr__max_iter': 100, 'lr__penalty': 'l2', 'lr__solver': 'liblinear'}\n"
     ]
    }
   ],
   "source": [
    "# Checking the best parameters\n",
    "print(grid_search.best_params_)"
   ]
  },
  {
   "cell_type": "code",
   "execution_count": 99,
   "metadata": {},
   "outputs": [
    {
     "name": "stdout",
     "output_type": "stream",
     "text": [
      "Predicted outcome: [1 1 1 1 1 1 1 1 1 1]\n"
     ]
    }
   ],
   "source": [
    "# Testing the model tunned\n",
    "X_test_row = X_test.loc[:, ]\n",
    "y_pred = grid_search.predict(X_test_row)\n",
    "print(\"Predicted outcome:\", y_pred[0:10])"
   ]
  },
  {
   "cell_type": "code",
   "execution_count": 100,
   "metadata": {},
   "outputs": [
    {
     "name": "stdout",
     "output_type": "stream",
     "text": [
      "Accuracy: 0.7402597402597403\n",
      "Score: 0.6773517703750263\n"
     ]
    }
   ],
   "source": [
    "# Calculating the accuracy and score of the best estimator\n",
    "accuracy = accuracy_score(y_test, y_pred)\n",
    "score = f1_score(y_test, y_pred, average='macro')\n",
    "\n",
    "print(\"Accuracy:\", accuracy)\n",
    "print(\"Score:\", score)"
   ]
  },
  {
   "cell_type": "code",
   "execution_count": 101,
   "metadata": {},
   "outputs": [],
   "source": [
    "pickle.dump( grid_search, open( \"PipelineModel.pkl\", \"wb\" ) )\n"
   ]
  },
  {
   "cell_type": "markdown",
   "metadata": {},
   "source": [
    "## 6. Deploy your model to cloud and test it with PostMan, BASH or Python"
   ]
  },
  {
   "cell_type": "code",
   "execution_count": null,
   "metadata": {},
   "outputs": [],
   "source": []
  },
  {
   "cell_type": "code",
   "execution_count": null,
   "metadata": {},
   "outputs": [],
   "source": []
  },
  {
   "cell_type": "code",
   "execution_count": null,
   "metadata": {},
   "outputs": [],
   "source": []
  }
 ],
 "metadata": {
  "kernelspec": {
   "display_name": "base",
   "language": "python",
   "name": "python3"
  },
  "language_info": {
   "codemirror_mode": {
    "name": "ipython",
    "version": 3
   },
   "file_extension": ".py",
   "mimetype": "text/x-python",
   "name": "python",
   "nbconvert_exporter": "python",
   "pygments_lexer": "ipython3",
   "version": "3.9.13"
  },
  "vscode": {
   "interpreter": {
    "hash": "21a44ce51b2455586308d7e2be6e57388f0fdfa4326b90885d398dc353b37081"
   }
  }
 },
 "nbformat": 4,
 "nbformat_minor": 4
}
