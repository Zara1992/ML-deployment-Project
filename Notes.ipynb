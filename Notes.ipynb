{
 "cells": [
  {
   "cell_type": "code",
   "execution_count": null,
   "metadata": {},
   "outputs": [],
   "source": [
    "print(df[df['Gender'].isnull()])\n",
    "df['Gender'] = df['Gender'].fillna(df['Gender'].dropna().mode().values[0] )\n",
    "\n",
    "df.loc[[23,126,171,188,314,334,460,467,477,507,576,588,592],'Gender']\n"
   ]
  },
  {
   "cell_type": "code",
   "execution_count": null,
   "metadata": {},
   "outputs": [],
   "source": [
    "sns.catplot(\n",
    "    data=df, x=\"Credit_History\", y=\"LoanAmount\", col=\"Gender\",\n",
    "    kind=\"bar\", height=4, aspect=.6,\n",
    ")\n",
    "\n",
    "sns.countplot(x= df['Credit_History'] ,hue= df['Loan_Status'])\n",
    "sns.countplot(x=df[\"Credit_History\"])\n"
   ]
  },
  {
   "cell_type": "code",
   "execution_count": null,
   "metadata": {},
   "outputs": [],
   "source": [
    "sns.boxplot(y=df2['LoanAmount_Log'])\n",
    "plt.title(\"Box plot of original Dataset\")\n",
    "\n",
    "#  Calculate the first and third quartiles (Q1 and Q3) using the quantile method\n",
    "q1 = abc['LoanAmount_Log'].quantile(q=0.25)\n",
    "q3 = abc['LoanAmount_Log'].quantile(q=0.75)\n",
    "\n",
    "# Calculate iqr (iqr = q3 - q1)\n",
    "iqr = q3 - q1\n",
    "\n",
    "#  Calculate the lower and upper bounds for outliers\n",
    "lower_bound = q1 - 1.5 * iqr\n",
    "upper_bound = q3 + 1.5 * iqr\n",
    "\n",
    "# Identify outliers in column 'Diameter (micrometer)'\n",
    "outliers = abc[(abc['LoanAmount_Log'] < lower_bound) | (abc['LoanAmount_Log'] > upper_bound)]\n",
    "\n",
    "# Print the outliers\n",
    "print(\"Outliers in column 'LoanAmount_Log':\")\n",
    "outliers"
   ]
  },
  {
   "attachments": {},
   "cell_type": "markdown",
   "metadata": {},
   "source": [
    "def z_score(abc: pd.DataFrame, col_name: str) -> pd.DataFrame:\n",
    "    \"\"\"\n",
    "    This function uses Z-score outlier detection\n",
    "    method to detect outliers and retrn them in a data frame\n",
    "    \n",
    "    :param: Takes a data frame and the column name\n",
    "    \n",
    "    :return: list of the outliers you had\n",
    "    in your data frame\n",
    "    \"\"\"\n",
    "    \n",
    "    std: np.float16 = np.float16(abc[col_name].std())\n",
    "    mean: np.float16 = np.float16(abc[col_name].mean())\n",
    "    \n",
    "    upper_limit = mean + (3 * std)\n",
    "    lower_limit = mean - (3 * std)\n",
    "    \n",
    "    outliers_free = [value for value in abc[col_name] if \n",
    "                  not((value > upper_limit) | (value < lower_limit))]\n",
    "    \n",
    "\n",
    "    filtered_data = abc.loc[abc[col_name].isin(outliers_free)]\n",
    "    \n",
    "    \n",
    "    return filtered_data\n",
    "---------------------------------\n",
    "\n",
    "\n",
    "abc = z_score(abc, \"ApplicantIncome\")\n",
    "abc = z_score(abc, \"CoapplicantIncome\")\n",
    "\n",
    "fig, axes = plt.subplots(nrows=2, ncols=2)\n",
    "\n",
    "sns.violinplot(x =abc[\"LoanAmount\"], ax = axes[1,0], color= \"#b3b3ff\")\n",
    "sns.violinplot(x= abc[\"Loan_Amount_Term\"], ax = axes[1,1], color= \"#b3ffd9\")\n",
    "sns.violinplot(x= abc[\"ApplicantIncome\"], ax = axes[0,0], color= \"#ffcccc\")\n",
    "sns.violinplot(x= abc[\"CoapplicantIncome\"], ax = axes[0,1], color= \"#e6b3ff\")\n",
    "\n",
    "fig.set_size_inches(10,6)\n",
    "fig.suptitle(\"Make sure we fixed outliers\", fontsize= font)\n",
    "plt.show()"
   ]
  },
  {
   "cell_type": "code",
   "execution_count": null,
   "metadata": {},
   "outputs": [],
   "source": [
    "# Grid search method\n",
    "def svr_model(X, y):\n",
    "    gsc = GridSearchCV(\n",
    "        estimator=SVR(kernel='rbf'),\n",
    "        param_grid={\n",
    "            'C': [0.1, 1, 100, 1000],\n",
    "            'epsilon': [0.0001, 0.0005, 0.001, 0.005, 0.01, 0.05, 0.1, 0.5, 1, 5, 10],\n",
    "            'gamma': [0.0001, 0.001, 0.005, 0.1, 1, 3, 5]\n",
    "        },\n",
    "        cv=5, scoring='neg_mean_squared_error', verbose=0, n_jobs=-1)\n",
    "\n",
    "    grid_result = gsc.fit(X, y)\n",
    "    best_params = grid_result.best_params_\n",
    "    best_svr = SVR(kernel='rbf', C=best_params[\"C\"], epsilon=best_params[\"epsilon\"], gamma=best_params[\"gamma\"],\n",
    "                   coef0=0.1, shrinking=True,\n",
    "                   tol=0.001, cache_size=200, verbose=False, max_iter=-1)\n",
    "\n",
    "    scoring = {\n",
    "               'abs_error': 'neg_mean_absolute_error',\n",
    "               'squared_error': 'neg_mean_squared_error'}\n",
    "\n",
    "    scores = cross_validate(best_svr, X, y, cv=10, scoring=scoring, return_train_score=True)\n",
    "    return \"MAE :\", abs(scores['test_abs_error'].mean()), \"| RMSE :\", math.sqrt(abs(scores['test_squared_error'].mean()))\n",
    "\n",
    "\n",
    "\n",
    "print(svr_model(X,y))"
   ]
  },
  {
   "attachments": {},
   "cell_type": "markdown",
   "metadata": {},
   "source": [
    "https://www.kaggle.com/code/kshitij192/hyperparameter-tuning-using-grid-search-cv\n",
    "\n",
    "Best resource\n"
   ]
  }
 ],
 "metadata": {
  "language_info": {
   "name": "python"
  },
  "orig_nbformat": 4
 },
 "nbformat": 4,
 "nbformat_minor": 2
}
