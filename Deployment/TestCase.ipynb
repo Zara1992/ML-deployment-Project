{
 "cells": [
  {
   "cell_type": "code",
   "execution_count": 4,
   "metadata": {},
   "outputs": [
    {
     "name": "stdout",
     "output_type": "stream",
     "text": [
      "...\n",
      "request successful\n",
      "...\n",
      "{'prediction': '[1]'}\n"
     ]
    }
   ],
   "source": [
    "## Python test file for flask to test locally\n",
    "import requests as r\n",
    "import pandas as pd\n",
    "import json\n",
    "\n",
    "\n",
    "base_url = 'http://127.0.0.1:5000/' #base url local host\n",
    "\n",
    "json_data = [\n",
    "    {\n",
    "    \"Dependents\" : 0,\n",
    "    \"CoapplicantIncome\" : 2300,\n",
    "    \"Loan_Amount_Term\" : 180,\n",
    "    \"Credit_History\" : 1,\n",
    "    \"ApplicantIncome_Log\" : 5600,\n",
    "    \"LoanAmount_Log\" : 450,\n",
    "    \"TotalIncome_Log\" : 5600,\n",
    "    \"Married_new\" : 0,\n",
    "    \"Gender_new\" : 1,\n",
    "    \"Self_Employed_new\": 0,\n",
    "    \"Education_new\": 1,\n",
    "    \"Property_Area_new\": 2\n",
    "    }\n",
    "]\n",
    "\n",
    "# Get Response\n",
    "# response = r.get(base_url)\n",
    "response = r.post(base_url + \"predict\", json = json_data)\n",
    "\n",
    "\n",
    "if response.status_code == 200:\n",
    "    print('...')\n",
    "    print('request successful')\n",
    "    print('...')\n",
    "    print(response.json())\n",
    "else:\n",
    "    print(response.json())\n",
    "    print('request failed')"
   ]
  }
 ],
 "metadata": {
  "kernelspec": {
   "display_name": "base",
   "language": "python",
   "name": "python3"
  },
  "language_info": {
   "codemirror_mode": {
    "name": "ipython",
    "version": 3
   },
   "file_extension": ".py",
   "mimetype": "text/x-python",
   "name": "python",
   "nbconvert_exporter": "python",
   "pygments_lexer": "ipython3",
   "version": "3.9.13"
  },
  "orig_nbformat": 4,
  "vscode": {
   "interpreter": {
    "hash": "21a44ce51b2455586308d7e2be6e57388f0fdfa4326b90885d398dc353b37081"
   }
  }
 },
 "nbformat": 4,
 "nbformat_minor": 2
}
